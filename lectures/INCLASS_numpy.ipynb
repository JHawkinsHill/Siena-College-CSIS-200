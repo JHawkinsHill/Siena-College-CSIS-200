{
 "cells": [
  {
   "cell_type": "markdown",
   "metadata": {},
   "source": [
    "# Problem 1 - same birthdays\n",
    "\n",
    "Suppose you have 25 people in the room. What are the odds that **at least** two of them, have the same birthday. \n",
    "\n",
    "The way to solve the problem is to calculate the odds that *none of them* have the same birthday, and then subtract that from 1 to get every other possibility (2 have the same birthday, 2 sets of 2 have the same birthday, 3 have the same birthday, etc.). \n",
    "\n",
    "To calculate the probability that no one has the same birthday, calculate chances for each person, starting with the first. \n",
    "\n",
    "$P(0)=1$: Person 0 has a birthday *sometime*. \n",
    "\n",
    "$P(1)=364/365$: Person 1 has a birthday that is not the same as Person 0. \n",
    "\n",
    "$P(2)=363/365$: Person 2 has a birthday that is not the same as Person 0 *or* Person 1.\n",
    "\n",
    "and so on....\n",
    "\n",
    "$$\\textrm{Probability that no one has the same birthday} = 1 - \\left(1\\times \\frac{364}{365} \\times \\frac{363}{364} \\times ... \\frac{340}{365}\\right)$$"
   ]
  },
  {
   "cell_type": "code",
   "execution_count": null,
   "metadata": {
    "collapsed": false
   },
   "outputs": [],
   "source": [
    "npeople = 25\n",
    "\n",
    "ptemp = 1\n",
    "\n",
    "for i in range(0,npeople):\n",
    "    ptemp *= (365.-i)/365.\n",
    "    \n",
    "print ptemp\n",
    "\n",
    "prob = 1-ptemp\n",
    "\n",
    "print\n",
    "print \"Probability that at least 2 people have the same birthday is %f\" % (prob)"
   ]
  },
  {
   "cell_type": "markdown",
   "metadata": {},
   "source": [
    "How would we do this ***numerically***? That is, could we write a \"simulation\" and see how often it happens?\n",
    "\n",
    "We would want to \"make\" lots of fake rooms of 25 people with birthdays and see what percent have at least 2 people with the same birthday."
   ]
  },
  {
   "cell_type": "code",
   "execution_count": null,
   "metadata": {
    "collapsed": false
   },
   "outputs": [],
   "source": [
    "# Let's generate 25 fake birthdays\n",
    "\n",
    "import numpy as np\n",
    "\n",
    "birthdays = np.random.randint(1,366,npeople)\n",
    "print birthdays"
   ]
  },
  {
   "cell_type": "code",
   "execution_count": null,
   "metadata": {
    "collapsed": true
   },
   "outputs": [],
   "source": [
    "# Could we do this 1000 times? Sure we could!\n",
    "\n",
    "nrooms = 1000\n",
    "\n",
    "for i in range(0,nrooms):\n",
    "    birthdays = np.random.randint(1,366,25)\n"
   ]
  },
  {
   "cell_type": "code",
   "execution_count": null,
   "metadata": {
    "collapsed": true
   },
   "outputs": [],
   "source": [
    "# OK, but now what?\n",
    "\n",
    "# We need to figure out if anyone in a room has the same birthday.\n",
    "\n",
    "def same_birthday(days):\n",
    "    \n",
    "    ndays = len(days)\n",
    "    \n",
    "    same_day = False\n",
    "    for i in range(0,ndays-1):\n",
    "        for j in range(i+1,ndays):\n",
    "            \n",
    "            if days[i]==days[j]:\n",
    "                same_day = True\n",
    "                break\n",
    "                \n",
    "    return same_day"
   ]
  },
  {
   "cell_type": "code",
   "execution_count": null,
   "metadata": {
    "collapsed": false
   },
   "outputs": [],
   "source": [
    "# Test it!\n",
    "birthdays = np.random.randint(1,366,npeople)\n",
    "print birthdays\n",
    "\n",
    "print same_birthday(birthdays)"
   ]
  },
  {
   "cell_type": "code",
   "execution_count": null,
   "metadata": {
    "collapsed": false
   },
   "outputs": [],
   "source": [
    "# Now run over a whole bunch, and keep track\n",
    "nrooms = 1000\n",
    "\n",
    "nsame = 0\n",
    "for i in range(0,nrooms):\n",
    "    birthdays = np.random.randint(1,366,25)\n",
    "    \n",
    "    if same_birthday(birthdays)==True:\n",
    "        nsame += 1\n",
    "        \n",
    "print \"# number of rooms that have at least two people with same birthday is %d\" % (nsame)\n",
    "print \"The percent is %0.3f\" % (100.*nsame/float(nrooms))"
   ]
  },
  {
   "cell_type": "markdown",
   "metadata": {},
   "source": [
    "This approach is sometimes called the [Monte Carlo method](https://en.wikipedia.org/wiki/Monte_Carlo_method)."
   ]
  },
  {
   "cell_type": "code",
   "execution_count": null,
   "metadata": {
    "collapsed": true
   },
   "outputs": [],
   "source": []
  }
 ],
 "metadata": {
  "kernelspec": {
   "display_name": "Python 2",
   "language": "python",
   "name": "python2"
  },
  "language_info": {
   "codemirror_mode": {
    "name": "ipython",
    "version": 2
   },
   "file_extension": ".py",
   "mimetype": "text/x-python",
   "name": "python",
   "nbconvert_exporter": "python",
   "pygments_lexer": "ipython2",
   "version": "2.7.10"
  }
 },
 "nbformat": 4,
 "nbformat_minor": 0
}
