{
 "cells": [
  {
   "cell_type": "markdown",
   "metadata": {},
   "source": [
    "These exercises will allow you to test your understanding of **functions** in Python."
   ]
  },
  {
   "cell_type": "code",
   "execution_count": null,
   "metadata": {
    "collapsed": false
   },
   "outputs": [],
   "source": [
    "# Write your own factorial function, starting from this starter code.\n",
    "\n",
    "def myfactorial(n):\n",
    "    \n",
    "    fac = 0\n",
    "    \n",
    "    return fac\n",
    "\n",
    "# Test your function!\n",
    "print myfactorial(4) # Should be 24\n",
    "print myfactorial(8) # Should be 40320\n"
   ]
  },
  {
   "cell_type": "code",
   "execution_count": null,
   "metadata": {
    "collapsed": false
   },
   "outputs": [],
   "source": [
    "# Write a function that takes your name and tells you how many letters are \n",
    "# in it, along with how many vowels.\n",
    "\n",
    "def length_and_vowels(myname):\n",
    "    \n",
    "    nletters = 0\n",
    "    nvowels = 0\n",
    "    \n",
    "    return nletters,nvowels\n",
    "\n",
    "name = \"YOURNAMEHERE\"\n",
    "nl,nv = length_and_vowels(name)\n",
    "print \"There are %d letters and %d vowels in %s\" % (nl,nv,name)"
   ]
  },
  {
   "cell_type": "code",
   "execution_count": null,
   "metadata": {
    "collapsed": true
   },
   "outputs": [],
   "source": []
  }
 ],
 "metadata": {
  "kernelspec": {
   "display_name": "Python 2",
   "language": "python",
   "name": "python2"
  },
  "language_info": {
   "codemirror_mode": {
    "name": "ipython",
    "version": 2
   },
   "file_extension": ".py",
   "mimetype": "text/x-python",
   "name": "python",
   "nbconvert_exporter": "python",
   "pygments_lexer": "ipython2",
   "version": "2.7.10"
  }
 },
 "nbformat": 4,
 "nbformat_minor": 0
}
